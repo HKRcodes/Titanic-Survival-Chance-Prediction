{
  "nbformat": 4,
  "nbformat_minor": 0,
  "metadata": {
    "colab": {
      "provenance": [],
      "authorship_tag": "ABX9TyOsJAn4Ksoo/w9+iMPKFray",
      "include_colab_link": true
    },
    "kernelspec": {
      "name": "python3",
      "display_name": "Python 3"
    },
    "language_info": {
      "name": "python"
    }
  },
  "cells": [
    {
      "cell_type": "markdown",
      "metadata": {
        "id": "view-in-github",
        "colab_type": "text"
      },
      "source": [
        "<a href=\"https://colab.research.google.com/github/HKRcodes/Titanic-Survival-Chance-Prediction/blob/main/Titanic_Survival.ipynb\" target=\"_parent\"><img src=\"https://colab.research.google.com/assets/colab-badge.svg\" alt=\"Open In Colab\"/></a>"
      ]
    },
    {
      "cell_type": "code",
      "execution_count": 1,
      "metadata": {
        "colab": {
          "base_uri": "https://localhost:8080/",
          "height": 1000
        },
        "id": "eA0ojWlTi9XG",
        "outputId": "ddbeee41-1601-4151-c2d9-8791f5b02268"
      },
      "outputs": [
        {
          "output_type": "stream",
          "name": "stdout",
          "text": [
            "The dataset is : \n",
            "    PassengerId  Survived  Pclass  \\\n",
            "0          892         0       3   \n",
            "1          893         1       3   \n",
            "2          894         0       2   \n",
            "3          895         0       3   \n",
            "4          896         1       3   \n",
            "\n",
            "                                           Name     Sex   Age  SibSp  Parch  \\\n",
            "0                              Kelly, Mr. James    male  34.5      0      0   \n",
            "1              Wilkes, Mrs. James (Ellen Needs)  female  47.0      1      0   \n",
            "2                     Myles, Mr. Thomas Francis    male  62.0      0      0   \n",
            "3                              Wirz, Mr. Albert    male  27.0      0      0   \n",
            "4  Hirvonen, Mrs. Alexander (Helga E Lindqvist)  female  22.0      1      1   \n",
            "\n",
            "    Ticket     Fare Cabin Embarked  \n",
            "0   330911   7.8292   NaN        Q  \n",
            "1   363272   7.0000   NaN        S  \n",
            "2   240276   9.6875   NaN        Q  \n",
            "3   315154   8.6625   NaN        S  \n",
            "4  3101298  12.2875   NaN        S  \n",
            "X-Vars : \n",
            "      Pclass   Age  SibSp  Parch      Fare\n",
            "12        1  23.0      1      0   82.2667\n",
            "14        1  47.0      1      0   61.1750\n",
            "24        1  48.0      1      3  262.3750\n",
            "26        1  22.0      0      1   61.9792\n",
            "28        1  41.0      0      0   30.5000\n",
            "..      ...   ...    ...    ...       ...\n",
            "404       1  43.0      1      0   27.7208\n",
            "405       2  20.0      0      0   13.8625\n",
            "407       1  50.0      1      1  211.5000\n",
            "411       1  37.0      1      0   90.0000\n",
            "414       1  39.0      0      0  108.9000\n",
            "\n",
            "[87 rows x 5 columns]\n",
            "Y-Vars : \n",
            "      Survived\n",
            "12          1\n",
            "14          1\n",
            "24          1\n",
            "26          1\n",
            "28          0\n",
            "..        ...\n",
            "404         0\n",
            "405         0\n",
            "407         0\n",
            "411         1\n",
            "414         1\n",
            "\n",
            "[87 rows x 1 columns]\n",
            "df : \n",
            "      Survived  Pclass   Age  SibSp  Parch      Fare\n",
            "12          1       1  23.0      1      0   82.2667\n",
            "14          1       1  47.0      1      0   61.1750\n",
            "24          1       1  48.0      1      3  262.3750\n",
            "26          1       1  22.0      0      1   61.9792\n",
            "28          0       1  41.0      0      0   30.5000\n",
            "..        ...     ...   ...    ...    ...       ...\n",
            "404         0       1  43.0      1      0   27.7208\n",
            "405         0       2  20.0      0      0   13.8625\n",
            "407         0       1  50.0      1      1  211.5000\n",
            "411         1       1  37.0      1      0   90.0000\n",
            "414         1       1  39.0      0      0  108.9000\n",
            "\n",
            "[87 rows x 6 columns]\n"
          ]
        },
        {
          "output_type": "stream",
          "name": "stderr",
          "text": [
            "<ipython-input-1-ca11be5915a8>:28: DataConversionWarning: A column-vector y was passed when a 1d array was expected. Please change the shape of y to (n_samples,), for example using ravel().\n",
            "  regressor.fit(xTrain,yTrain)\n"
          ]
        },
        {
          "output_type": "execute_result",
          "data": {
            "text/plain": [
              "RandomForestRegressor(n_estimators=250, random_state=50)"
            ],
            "text/html": [
              "<style>#sk-container-id-1 {color: black;background-color: white;}#sk-container-id-1 pre{padding: 0;}#sk-container-id-1 div.sk-toggleable {background-color: white;}#sk-container-id-1 label.sk-toggleable__label {cursor: pointer;display: block;width: 100%;margin-bottom: 0;padding: 0.3em;box-sizing: border-box;text-align: center;}#sk-container-id-1 label.sk-toggleable__label-arrow:before {content: \"▸\";float: left;margin-right: 0.25em;color: #696969;}#sk-container-id-1 label.sk-toggleable__label-arrow:hover:before {color: black;}#sk-container-id-1 div.sk-estimator:hover label.sk-toggleable__label-arrow:before {color: black;}#sk-container-id-1 div.sk-toggleable__content {max-height: 0;max-width: 0;overflow: hidden;text-align: left;background-color: #f0f8ff;}#sk-container-id-1 div.sk-toggleable__content pre {margin: 0.2em;color: black;border-radius: 0.25em;background-color: #f0f8ff;}#sk-container-id-1 input.sk-toggleable__control:checked~div.sk-toggleable__content {max-height: 200px;max-width: 100%;overflow: auto;}#sk-container-id-1 input.sk-toggleable__control:checked~label.sk-toggleable__label-arrow:before {content: \"▾\";}#sk-container-id-1 div.sk-estimator input.sk-toggleable__control:checked~label.sk-toggleable__label {background-color: #d4ebff;}#sk-container-id-1 div.sk-label input.sk-toggleable__control:checked~label.sk-toggleable__label {background-color: #d4ebff;}#sk-container-id-1 input.sk-hidden--visually {border: 0;clip: rect(1px 1px 1px 1px);clip: rect(1px, 1px, 1px, 1px);height: 1px;margin: -1px;overflow: hidden;padding: 0;position: absolute;width: 1px;}#sk-container-id-1 div.sk-estimator {font-family: monospace;background-color: #f0f8ff;border: 1px dotted black;border-radius: 0.25em;box-sizing: border-box;margin-bottom: 0.5em;}#sk-container-id-1 div.sk-estimator:hover {background-color: #d4ebff;}#sk-container-id-1 div.sk-parallel-item::after {content: \"\";width: 100%;border-bottom: 1px solid gray;flex-grow: 1;}#sk-container-id-1 div.sk-label:hover label.sk-toggleable__label {background-color: #d4ebff;}#sk-container-id-1 div.sk-serial::before {content: \"\";position: absolute;border-left: 1px solid gray;box-sizing: border-box;top: 0;bottom: 0;left: 50%;z-index: 0;}#sk-container-id-1 div.sk-serial {display: flex;flex-direction: column;align-items: center;background-color: white;padding-right: 0.2em;padding-left: 0.2em;position: relative;}#sk-container-id-1 div.sk-item {position: relative;z-index: 1;}#sk-container-id-1 div.sk-parallel {display: flex;align-items: stretch;justify-content: center;background-color: white;position: relative;}#sk-container-id-1 div.sk-item::before, #sk-container-id-1 div.sk-parallel-item::before {content: \"\";position: absolute;border-left: 1px solid gray;box-sizing: border-box;top: 0;bottom: 0;left: 50%;z-index: -1;}#sk-container-id-1 div.sk-parallel-item {display: flex;flex-direction: column;z-index: 1;position: relative;background-color: white;}#sk-container-id-1 div.sk-parallel-item:first-child::after {align-self: flex-end;width: 50%;}#sk-container-id-1 div.sk-parallel-item:last-child::after {align-self: flex-start;width: 50%;}#sk-container-id-1 div.sk-parallel-item:only-child::after {width: 0;}#sk-container-id-1 div.sk-dashed-wrapped {border: 1px dashed gray;margin: 0 0.4em 0.5em 0.4em;box-sizing: border-box;padding-bottom: 0.4em;background-color: white;}#sk-container-id-1 div.sk-label label {font-family: monospace;font-weight: bold;display: inline-block;line-height: 1.2em;}#sk-container-id-1 div.sk-label-container {text-align: center;}#sk-container-id-1 div.sk-container {/* jupyter's `normalize.less` sets `[hidden] { display: none; }` but bootstrap.min.css set `[hidden] { display: none !important; }` so we also need the `!important` here to be able to override the default hidden behavior on the sphinx rendered scikit-learn.org. See: https://github.com/scikit-learn/scikit-learn/issues/21755 */display: inline-block !important;position: relative;}#sk-container-id-1 div.sk-text-repr-fallback {display: none;}</style><div id=\"sk-container-id-1\" class=\"sk-top-container\"><div class=\"sk-text-repr-fallback\"><pre>RandomForestRegressor(n_estimators=250, random_state=50)</pre><b>In a Jupyter environment, please rerun this cell to show the HTML representation or trust the notebook. <br />On GitHub, the HTML representation is unable to render, please try loading this page with nbviewer.org.</b></div><div class=\"sk-container\" hidden><div class=\"sk-item\"><div class=\"sk-estimator sk-toggleable\"><input class=\"sk-toggleable__control sk-hidden--visually\" id=\"sk-estimator-id-1\" type=\"checkbox\" checked><label for=\"sk-estimator-id-1\" class=\"sk-toggleable__label sk-toggleable__label-arrow\">RandomForestRegressor</label><div class=\"sk-toggleable__content\"><pre>RandomForestRegressor(n_estimators=250, random_state=50)</pre></div></div></div></div></div>"
            ]
          },
          "metadata": {},
          "execution_count": 1
        }
      ],
      "source": [
        "import pandas as pd\n",
        "import numpy as np\n",
        "import seaborn as sns\n",
        "import matplotlib.pyplot as plt\n",
        "\n",
        "from sklearn import datasets, metrics\n",
        "from sklearn.model_selection import train_test_split\n",
        "from sklearn.ensemble import RandomForestRegressor\n",
        "     \n",
        "\n",
        "df=pd.read_csv('/content/titanic.csv')\n",
        "print(\"The dataset is : \\n\",df.head())\n",
        "\n",
        "df.dropna(inplace=True)\n",
        "df.drop(['PassengerId','Name','Sex','Ticket','Cabin','Embarked'],axis=1, inplace=True)\n",
        "\n",
        "xVars=df.drop(['Survived'],axis=1)\n",
        "yVars=df[['Survived']]\n",
        "\n",
        "xTrain,xValid,yTrain,yValid= train_test_split(xVars,yVars,test_size=0.25, random_state=50 )\n",
        "     \n",
        "\n",
        "print(\"X-Vars : \\n\",xVars)\n",
        "print(\"Y-Vars : \\n\",yVars)\n",
        "print(\"df : \\n\",df)\n",
        "\n",
        "regressor =RandomForestRegressor(n_estimators=250,random_state=50 )\n",
        "regressor.fit(xTrain,yTrain)"
      ]
    },
    {
      "cell_type": "code",
      "source": [
        "y_pred = regressor.predict(xValid)\n",
        "y_pred\n",
        "     \n",
        "name =input(\"Enter the name of passenger : \")\n",
        "if name.lower()==\"jack\":\n",
        "  print(\"Passenger Jack will Die\")\n",
        "if name.lower()==\"rose\":\n",
        "  print(\"Passenger Rose will survive\")\n",
        "else:\n",
        "  new_user_data = {}\n",
        "  print(f\"\\nEnter data of {name} to predict the survival chance\\n\")\n",
        "  user_data = pd.DataFrame(columns=[column for column in xVars.columns])\n",
        "\n",
        "  for column in user_data.columns:\n",
        "    value = int(input(f\"Enter value for {column} : \"))\n",
        "    new_user_data[column] = value\n",
        "\n",
        "  # Use the loc method to add the new row to the DataFrame\n",
        "  user_data.loc[len(user_data)] = new_user_data\n",
        "    \n",
        "  print(\"\\nUser_data : \\n\\n\",user_data)\n",
        "  user_pred = regressor.predict(user_data)\n",
        "  print(\"\\nThe survival status for \",name ,\"is : \",user_pred[user_pred.argmax()]*100, \"%\")"
      ],
      "metadata": {
        "colab": {
          "base_uri": "https://localhost:8080/"
        },
        "id": "mm2F37zjkgvU",
        "outputId": "7dc3e8fe-f886-4941-a4bb-3e386cd6cb93"
      },
      "execution_count": 3,
      "outputs": [
        {
          "output_type": "stream",
          "name": "stdout",
          "text": [
            "Enter the name of passenger : Gon\n",
            "\n",
            "Enter data of Gon to predict the survival chance\n",
            "\n",
            "Enter value for Pclass : 1\n",
            "Enter value for Age : 12\n",
            "Enter value for SibSp : 0\n",
            "Enter value for Parch : 0\n",
            "Enter value for Fare : 15000\n",
            "\n",
            "User_data : \n",
            "\n",
            "    Pclass  Age  SibSp  Parch   Fare\n",
            "0       1   12      0      0  15000\n",
            "\n",
            "The survival status for  Gon is :  61.6 %\n"
          ]
        }
      ]
    }
  ]
}